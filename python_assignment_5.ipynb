{
 "cells": [
  {
   "cell_type": "code",
   "execution_count": null,
   "id": "323e292e",
   "metadata": {},
   "outputs": [],
   "source": [
    "'''1. What does an empty dictionary's code look like?'''\n",
    "dict = {}"
   ]
  },
  {
   "cell_type": "code",
   "execution_count": 2,
   "id": "3f132b08",
   "metadata": {},
   "outputs": [
    {
     "data": {
      "text/plain": [
       "dict_values([42])"
      ]
     },
     "execution_count": 2,
     "metadata": {},
     "output_type": "execute_result"
    }
   ],
   "source": [
    "'''2. What is the value of a dictionary value with the key 'foo' and the value 42?'''\n",
    "#Its value is 42\n",
    "dict = {'foo':42}\n",
    "dict.values()"
   ]
  },
  {
   "cell_type": "code",
   "execution_count": null,
   "id": "de359463",
   "metadata": {},
   "outputs": [],
   "source": [
    "'''3. What is the most significant distinction between a dictionary and a list?'''\n",
    " A list is an ordered sequence of objects, whereas dictionaries are unordered sets."
   ]
  },
  {
   "cell_type": "code",
   "execution_count": 3,
   "id": "8f70c03b",
   "metadata": {},
   "outputs": [
    {
     "ename": "KeyError",
     "evalue": "'foo'",
     "output_type": "error",
     "traceback": [
      "\u001b[1;31m---------------------------------------------------------------------------\u001b[0m",
      "\u001b[1;31mKeyError\u001b[0m                                  Traceback (most recent call last)",
      "Input \u001b[1;32mIn [3]\u001b[0m, in \u001b[0;36m<cell line: 3>\u001b[1;34m()\u001b[0m\n\u001b[0;32m      1\u001b[0m \u001b[38;5;124;03m'''4. What happens if you try to access spam['foo'] if spam is {'bar': 100}?'''\u001b[39;00m\n\u001b[0;32m      2\u001b[0m spam \u001b[38;5;241m=\u001b[39m {\u001b[38;5;124m'\u001b[39m\u001b[38;5;124mbar\u001b[39m\u001b[38;5;124m'\u001b[39m:\u001b[38;5;241m100\u001b[39m}\n\u001b[1;32m----> 3\u001b[0m \u001b[43mspam\u001b[49m\u001b[43m[\u001b[49m\u001b[38;5;124;43m'\u001b[39;49m\u001b[38;5;124;43mfoo\u001b[39;49m\u001b[38;5;124;43m'\u001b[39;49m\u001b[43m]\u001b[49m\n",
      "\u001b[1;31mKeyError\u001b[0m: 'foo'"
     ]
    }
   ],
   "source": [
    "'''4. What happens if you try to access spam['foo'] if spam is {'bar': 100}?'''\n",
    "spam = {'bar':100}\n",
    "spam['foo']\n",
    "It will show a Keyerror."
   ]
  },
  {
   "cell_type": "code",
   "execution_count": null,
   "id": "9fa9fa6a",
   "metadata": {},
   "outputs": [],
   "source": [
    "'''5. If a dictionary is stored in spam, what is the difference between the expressions 'cat' in spam and 'cat' in spam.keys()?'''\n",
    "There is no difference because 'cat' in spam checks whether 'cat' is present as a key in dictionary\n",
    "and 'cat' in spam.keys() also checks the same."
   ]
  },
  {
   "cell_type": "code",
   "execution_count": null,
   "id": "4c2cd6be",
   "metadata": {},
   "outputs": [],
   "source": [
    "'''6. If a dictionary is stored in spam, what is the difference between the expressions 'cat' in spam and 'cat' in spam.values()?'''\n",
    "The expression 'cat' in spam checks is 'cat' is a key in dictionary\n",
    "While 'cat' in spam.values() check is 'cat' a value in dictionary"
   ]
  },
  {
   "cell_type": "code",
   "execution_count": null,
   "id": "ceb4d45c",
   "metadata": {},
   "outputs": [],
   "source": [
    "'''7. What is a shortcut for the following code?\n",
    "if 'color' not in spam:\n",
    "spam['color'] = 'black''''\n",
    "spam.setdefault('color', 'black')"
   ]
  },
  {
   "cell_type": "code",
   "execution_count": 5,
   "id": "bf940278",
   "metadata": {},
   "outputs": [
    {
     "name": "stdout",
     "output_type": "stream",
     "text": [
      "{' ': 13,\n",
      " ',': 1,\n",
      " '.': 1,\n",
      " 'A': 1,\n",
      " 'I': 1,\n",
      " 'a': 4,\n",
      " 'b': 1,\n",
      " 'c': 3,\n",
      " 'd': 3,\n",
      " 'e': 5,\n",
      " 'g': 2,\n",
      " 'h': 3,\n",
      " 'i': 6,\n",
      " 'k': 2,\n",
      " 'l': 3,\n",
      " 'n': 4,\n",
      " 'o': 2,\n",
      " 'p': 1,\n",
      " 'r': 5,\n",
      " 's': 3,\n",
      " 't': 6,\n",
      " 'w': 2,\n",
      " 'y': 1}\n"
     ]
    }
   ],
   "source": [
    "'''8. How do you \"pretty print\" dictionary values using which module and function?'''\n",
    "import pprint\n",
    "message = 'It was a bright cold day in April, and the clocks were striking thirteen.'\n",
    "count = {}\n",
    "\n",
    "for character in message:\n",
    "    count.setdefault(character, 0)\n",
    "    count[character] = count[character] + 1\n",
    "\n",
    "pprint.pprint(count)"
   ]
  },
  {
   "cell_type": "code",
   "execution_count": null,
   "id": "96a2107a",
   "metadata": {},
   "outputs": [],
   "source": []
  }
 ],
 "metadata": {
  "kernelspec": {
   "display_name": "Python 3 (ipykernel)",
   "language": "python",
   "name": "python3"
  },
  "language_info": {
   "codemirror_mode": {
    "name": "ipython",
    "version": 3
   },
   "file_extension": ".py",
   "mimetype": "text/x-python",
   "name": "python",
   "nbconvert_exporter": "python",
   "pygments_lexer": "ipython3",
   "version": "3.9.12"
  }
 },
 "nbformat": 4,
 "nbformat_minor": 5
}
