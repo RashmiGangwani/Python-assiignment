{
 "cells": [
  {
   "cell_type": "markdown",
   "id": "489f0b9a",
   "metadata": {},
   "source": [
    "# Programming Assignment no 4"
   ]
  },
  {
   "cell_type": "markdown",
   "id": "34b54435",
   "metadata": {},
   "source": [
    "# Q1 factorial"
   ]
  },
  {
   "cell_type": "code",
   "execution_count": 2,
   "id": "f67f3a3a",
   "metadata": {},
   "outputs": [
    {
     "name": "stdout",
     "output_type": "stream",
     "text": [
      "Enter the number:4\n",
      "Fatorial of the number is: 24\n"
     ]
    }
   ],
   "source": [
    "a=int(input(\"Enter the number:\"))\n",
    "n=1\n",
    "for i in range(1,a+1):\n",
    "    n=n*i \n",
    "print(\"Fatorial of the number is:\",n)    "
   ]
  },
  {
   "cell_type": "markdown",
   "id": "a10e96ad",
   "metadata": {},
   "source": [
    "# Q2 multiplication table"
   ]
  },
  {
   "cell_type": "code",
   "execution_count": 5,
   "id": "54690384",
   "metadata": {},
   "outputs": [
    {
     "name": "stdout",
     "output_type": "stream",
     "text": [
      "Enter the number to generate its multiplication table:5\n",
      "5 * 1 = 5\n",
      "5 * 2 = 10\n",
      "5 * 3 = 15\n",
      "5 * 4 = 20\n",
      "5 * 5 = 25\n",
      "5 * 6 = 30\n",
      "5 * 7 = 35\n",
      "5 * 8 = 40\n",
      "5 * 9 = 45\n",
      "5 * 10 = 50\n"
     ]
    }
   ],
   "source": [
    "a=int(input(\"Enter the number to generate its multiplication table:\"))\n",
    "for i in range(1,11):\n",
    "    b=i*a\n",
    "    print(a,\"*\",i,\"=\",b)"
   ]
  },
  {
   "cell_type": "markdown",
   "id": "c0b9fb93",
   "metadata": {},
   "source": [
    "# Q3 fibonacci sequence"
   ]
  },
  {
   "cell_type": "code",
   "execution_count": 14,
   "id": "e091d962",
   "metadata": {},
   "outputs": [
    {
     "name": "stdout",
     "output_type": "stream",
     "text": [
      "Enter the number for length of fibonacci series:15\n",
      "[0, 1, 1, 2, 3, 5, 8, 13, 21, 34, 55, 89, 144, 233, 377]\n"
     ]
    }
   ],
   "source": [
    "n=int(input(\"Enter the number for length of fibonacci series:\"))\n",
    "l=[]\n",
    "a=0\n",
    "b=1\n",
    "for i in range(n):\n",
    "    l.append(a)\n",
    "    a,b=b,a+b\n",
    "   \n",
    "    \n",
    "print(l)    "
   ]
  },
  {
   "cell_type": "markdown",
   "id": "f10c7bbd",
   "metadata": {},
   "source": [
    "# Q4 Armstrong no."
   ]
  },
  {
   "cell_type": "code",
   "execution_count": 29,
   "id": "1768aa95",
   "metadata": {},
   "outputs": [
    {
     "name": "stdout",
     "output_type": "stream",
     "text": [
      "Enter the number to check armstrong number:1634\n",
      "Entered number is Armstrong number\n"
     ]
    }
   ],
   "source": [
    "n=input(\"Enter the number to check armstrong number:\")\n",
    "l=0\n",
    "a=len(n)\n",
    "for i in n:\n",
    "    l=l+(int(i)**a) \n",
    "if int(n)==l:\n",
    "    print(\"Entered number is Armstrong number\")\n",
    "else:\n",
    "    print(\"Number is not Armstrong number\")\n",
    "   "
   ]
  },
  {
   "cell_type": "markdown",
   "id": "2d63ef3e",
   "metadata": {},
   "source": [
    "# Q6 sum of natural numbers"
   ]
  },
  {
   "cell_type": "code",
   "execution_count": 30,
   "id": "0ae7fec2",
   "metadata": {},
   "outputs": [
    {
     "name": "stdout",
     "output_type": "stream",
     "text": [
      "Enter the number upto which sum of natural number is want:5\n",
      "Sum of natural number is: 15\n"
     ]
    }
   ],
   "source": [
    "n=int(input(\"Enter the number upto which sum of natural number is want:\"))\n",
    "x=0\n",
    "for i in range(1,n+1):\n",
    "    x=x+i\n",
    "    \n",
    "print(\"Sum of natural number is:\",x)    "
   ]
  },
  {
   "cell_type": "markdown",
   "id": "926621bf",
   "metadata": {},
   "source": [
    "# Q5 Armstrong no in interval"
   ]
  },
  {
   "cell_type": "code",
   "execution_count": 37,
   "id": "8d5f1727",
   "metadata": {},
   "outputs": [
    {
     "name": "stdout",
     "output_type": "stream",
     "text": [
      "Enter lower bound of interval:100\n",
      "Enter upper bound of interval:9999\n",
      "Armstrong numbers are: [153, 370, 371, 407, 1634, 8208, 9474]\n"
     ]
    }
   ],
   "source": [
    "a=int(input(\"Enter lower bound of interval:\"))\n",
    "b=int(input(\"Enter upper bound of interval:\"))\n",
    "l=[]\n",
    "\n",
    "for i in range(a,b):\n",
    "    n=0\n",
    "    x=len(str(i))\n",
    "    for j in str(i):\n",
    "        n=n+(int(j)**x)\n",
    "    if n==i:\n",
    "        l.append(i)\n",
    "    else:\n",
    "        continue\n",
    "        \n",
    "        \n",
    "print(\"Armstrong numbers are:\",l)        "
   ]
  },
  {
   "cell_type": "code",
   "execution_count": null,
   "id": "bd207cb0",
   "metadata": {},
   "outputs": [],
   "source": []
  }
 ],
 "metadata": {
  "kernelspec": {
   "display_name": "Python 3 (ipykernel)",
   "language": "python",
   "name": "python3"
  },
  "language_info": {
   "codemirror_mode": {
    "name": "ipython",
    "version": 3
   },
   "file_extension": ".py",
   "mimetype": "text/x-python",
   "name": "python",
   "nbconvert_exporter": "python",
   "pygments_lexer": "ipython3",
   "version": "3.9.12"
  }
 },
 "nbformat": 4,
 "nbformat_minor": 5
}
