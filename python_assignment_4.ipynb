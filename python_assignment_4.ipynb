{
 "cells": [
  {
   "cell_type": "markdown",
   "id": "5bec634c",
   "metadata": {},
   "source": [
    "#1. What exactly is []?\n",
    "It is a blank list."
   ]
  },
  {
   "cell_type": "code",
   "execution_count": 3,
   "id": "cc31841c",
   "metadata": {},
   "outputs": [
    {
     "data": {
      "text/plain": [
       "[2, 4, 'hello', 6, 8, 10]"
      ]
     },
     "execution_count": 3,
     "metadata": {},
     "output_type": "execute_result"
    }
   ],
   "source": [
    "#2. In a list of values stored in a variable called spam, how would you assign the value 'hello' as the third value? (Assume [2, 4, 6, 8, 10] are in spam.)\n",
    "\n",
    "spam=[2, 4, 6, 8, 10]\n",
    "spam.insert(2,'hello')\n",
    "spam"
   ]
  },
  {
   "cell_type": "code",
   "execution_count": 5,
   "id": "3df3c9ca",
   "metadata": {},
   "outputs": [
    {
     "data": {
      "text/plain": [
       "'d'"
      ]
     },
     "execution_count": 5,
     "metadata": {},
     "output_type": "execute_result"
    }
   ],
   "source": [
    "'''Let's pretend the spam includes the list ['a', 'b', 'c', 'd'] for the next three queries.\n",
    "3. What is the value of spam[int(int('3' * 2) / 11)]?'''\n",
    "\n",
    "spam = ['a', 'b', 'c', 'd']\n",
    "spam[int(int('3' * 2) / 11)]"
   ]
  },
  {
   "cell_type": "code",
   "execution_count": 8,
   "id": "6eac0978",
   "metadata": {},
   "outputs": [
    {
     "data": {
      "text/plain": [
       "'d'"
      ]
     },
     "execution_count": 8,
     "metadata": {},
     "output_type": "execute_result"
    }
   ],
   "source": [
    "'''4. What is the value of spam[-1]?'''\n",
    "spam[-1]"
   ]
  },
  {
   "cell_type": "code",
   "execution_count": 9,
   "id": "acf77522",
   "metadata": {},
   "outputs": [
    {
     "data": {
      "text/plain": [
       "['a', 'b']"
      ]
     },
     "execution_count": 9,
     "metadata": {},
     "output_type": "execute_result"
    }
   ],
   "source": [
    "'''5. What is the value of spam[:2]?'''\n",
    "spam[:2]"
   ]
  },
  {
   "cell_type": "code",
   "execution_count": 15,
   "id": "211c291b",
   "metadata": {},
   "outputs": [
    {
     "data": {
      "text/plain": [
       "1"
      ]
     },
     "execution_count": 15,
     "metadata": {},
     "output_type": "execute_result"
    }
   ],
   "source": [
    "'''Let's pretend bacon has the list [3.14, 'cat,' 11, 'cat,' True] for the next three questions.\n",
    "6. What is the value of bacon.index('cat')?'''\n",
    "bacon = [3.14, 'cat', 11, 'cat', True]\n",
    "bacon.index('cat')"
   ]
  },
  {
   "cell_type": "code",
   "execution_count": 16,
   "id": "89d104fd",
   "metadata": {},
   "outputs": [
    {
     "data": {
      "text/plain": [
       "[3.14, 'cat', 11, 'cat', True, 99]"
      ]
     },
     "execution_count": 16,
     "metadata": {},
     "output_type": "execute_result"
    }
   ],
   "source": [
    "'''7. How does bacon.append(99) change the look of the list value in bacon?'''\n",
    "bacon.append(99)\n",
    "bacon"
   ]
  },
  {
   "cell_type": "code",
   "execution_count": 17,
   "id": "424af04c",
   "metadata": {},
   "outputs": [
    {
     "data": {
      "text/plain": [
       "[3.14, 11, 'cat', True, 99]"
      ]
     },
     "execution_count": 17,
     "metadata": {},
     "output_type": "execute_result"
    }
   ],
   "source": [
    "'''8. How does bacon.remove('cat') change the look of the list in bacon?'''\n",
    "bacon.remove('cat')\n",
    "bacon"
   ]
  },
  {
   "cell_type": "code",
   "execution_count": null,
   "id": "1e6b182c",
   "metadata": {},
   "outputs": [],
   "source": [
    "'''9. What are the list concatenation and list replication operators?'''\n",
    "List concatenation operator is '+'\n",
    "List replication operator is '*'"
   ]
  },
  {
   "cell_type": "code",
   "execution_count": null,
   "id": "7ab0a8cf",
   "metadata": {},
   "outputs": [],
   "source": [
    "'''10. What is difference between the list methods append() and insert()?'''\n",
    "append() : It adds the value element at the end of the list.\n",
    "insert() : It adds value at the mentioned index in the list. 2 parameters are provided in this method."
   ]
  },
  {
   "cell_type": "code",
   "execution_count": null,
   "id": "3031128d",
   "metadata": {},
   "outputs": [],
   "source": [
    "'''11. What are the two methods for removing items from a list?'''\n",
    "pop()\n",
    "remove()"
   ]
  },
  {
   "cell_type": "code",
   "execution_count": null,
   "id": "699a17da",
   "metadata": {},
   "outputs": [],
   "source": [
    "'''12. Describe how list values and string values are identical.'''\n",
    "Both supports index.\n",
    "Both are ordered collection of characters."
   ]
  },
  {
   "cell_type": "code",
   "execution_count": null,
   "id": "a2f6be47",
   "metadata": {},
   "outputs": [],
   "source": [
    "'''13. What's the difference between tuples and lists?'''\n",
    "Tuples are immutable while Lists are mutable."
   ]
  },
  {
   "cell_type": "code",
   "execution_count": 18,
   "id": "0d04844d",
   "metadata": {},
   "outputs": [
    {
     "data": {
      "text/plain": [
       "42"
      ]
     },
     "execution_count": 18,
     "metadata": {},
     "output_type": "execute_result"
    }
   ],
   "source": [
    "'''14. How do you type a tuple value that only contains the integer 42?'''\n",
    "t = (42)\n",
    "t"
   ]
  },
  {
   "cell_type": "code",
   "execution_count": 19,
   "id": "59e35690",
   "metadata": {},
   "outputs": [
    {
     "data": {
      "text/plain": [
       "(9, 7, 8, 6, 5, 4)"
      ]
     },
     "execution_count": 19,
     "metadata": {},
     "output_type": "execute_result"
    }
   ],
   "source": [
    "'''15. How do you get a list value's tuple form? How do you get a tuple value's list form?'''\n",
    "t1 = (1,2,3,4,5,6)\n",
    "l1 = [9,7,8,6,5,4]\n",
    "tuple(l1)"
   ]
  },
  {
   "cell_type": "code",
   "execution_count": 20,
   "id": "18828533",
   "metadata": {},
   "outputs": [
    {
     "data": {
      "text/plain": [
       "[1, 2, 3, 4, 5, 6]"
      ]
     },
     "execution_count": 20,
     "metadata": {},
     "output_type": "execute_result"
    }
   ],
   "source": [
    "list(t1)"
   ]
  },
  {
   "cell_type": "code",
   "execution_count": null,
   "id": "2e8b25cf",
   "metadata": {},
   "outputs": [],
   "source": [
    "'''16. Variables that \"contain\" list values are not necessarily lists themselves. Instead, what do they contain?'''\n",
    "Variables will contain references to list values rather than list values themselves."
   ]
  },
  {
   "cell_type": "code",
   "execution_count": null,
   "id": "ec3fdbfd",
   "metadata": {},
   "outputs": [],
   "source": [
    "'''17. How do you distinguish between copy.copy() and copy.deepcopy()?'''\n",
    "copy() create reference to original object.If you change copied object - you change the original object. \n",
    "\n",
    "deepcopy() creates new object and does real copying of original object to new one.hanging new deepcopied object doesn't affect original object."
   ]
  }
 ],
 "metadata": {
  "kernelspec": {
   "display_name": "Python 3 (ipykernel)",
   "language": "python",
   "name": "python3"
  },
  "language_info": {
   "codemirror_mode": {
    "name": "ipython",
    "version": 3
   },
   "file_extension": ".py",
   "mimetype": "text/x-python",
   "name": "python",
   "nbconvert_exporter": "python",
   "pygments_lexer": "ipython3",
   "version": "3.9.12"
  }
 },
 "nbformat": 4,
 "nbformat_minor": 5
}
