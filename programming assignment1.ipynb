{
 "cells": [
  {
   "cell_type": "markdown",
   "id": "e54a8436",
   "metadata": {},
   "source": [
    "# Programming Assignment 1"
   ]
  },
  {
   "cell_type": "code",
   "execution_count": 15,
   "id": "a427a643",
   "metadata": {},
   "outputs": [
    {
     "name": "stdout",
     "output_type": "stream",
     "text": [
      "Hello Python\n"
     ]
    }
   ],
   "source": [
    "print(\"Hello Python\")"
   ]
  },
  {
   "cell_type": "code",
   "execution_count": 3,
   "id": "37e404d5",
   "metadata": {},
   "outputs": [
    {
     "name": "stdout",
     "output_type": "stream",
     "text": [
      "15\n",
      "2.0\n"
     ]
    }
   ],
   "source": [
    "a=10\n",
    "b=5\n",
    "c=a+b\n",
    "d=a/b\n",
    "print(c)\n",
    "print(d)"
   ]
  },
  {
   "cell_type": "code",
   "execution_count": 8,
   "id": "570f15cd",
   "metadata": {},
   "outputs": [
    {
     "name": "stdout",
     "output_type": "stream",
     "text": [
      "Enter base value of triangle:10\n",
      "Enter height of triangle:4\n",
      "Area is: 20.0\n"
     ]
    }
   ],
   "source": [
    "base=int(input(\"Enter base value of triangle:\"))\n",
    "height=int(input(\"Enter height of triangle:\"))\n",
    "area=(.5*base*height)\n",
    "print(\"Area is:\",area)"
   ]
  },
  {
   "cell_type": "code",
   "execution_count": 13,
   "id": "31787a93",
   "metadata": {},
   "outputs": [
    {
     "name": "stdout",
     "output_type": "stream",
     "text": [
      "Enter first value:3\n",
      "Enter second value:4\n",
      "Swapped values: 4 3\n"
     ]
    }
   ],
   "source": [
    "a=int(input(\"Enter first value:\"))\n",
    "b=int(input(\"Enter second value:\"))\n",
    "c=a\n",
    "a=b\n",
    "b=c\n",
    "print(\"Swapped values:\",a,b)"
   ]
  },
  {
   "cell_type": "code",
   "execution_count": 14,
   "id": "d697e18c",
   "metadata": {},
   "outputs": [
    {
     "name": "stdout",
     "output_type": "stream",
     "text": [
      "23\n"
     ]
    }
   ],
   "source": [
    "import random\n",
    "print(random.randint(20,30))"
   ]
  },
  {
   "cell_type": "code",
   "execution_count": null,
   "id": "a75d53e0",
   "metadata": {},
   "outputs": [],
   "source": []
  }
 ],
 "metadata": {
  "kernelspec": {
   "display_name": "Python 3 (ipykernel)",
   "language": "python",
   "name": "python3"
  },
  "language_info": {
   "codemirror_mode": {
    "name": "ipython",
    "version": 3
   },
   "file_extension": ".py",
   "mimetype": "text/x-python",
   "name": "python",
   "nbconvert_exporter": "python",
   "pygments_lexer": "ipython3",
   "version": "3.9.12"
  }
 },
 "nbformat": 4,
 "nbformat_minor": 5
}
