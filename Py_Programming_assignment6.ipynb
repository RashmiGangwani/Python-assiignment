{
 "cells": [
  {
   "cell_type": "code",
   "execution_count": 1,
   "id": "987a2716",
   "metadata": {},
   "outputs": [
    {
     "data": {
      "text/plain": [
       "'1.\\tWrite a Python Program to Display Fibonacci Sequence Using Recursion?\\n2.\\tWrite a Python Program to Find Factorial of Number Using Recursion?\\n3.\\tWrite a Python Program to calculate your Body Mass Index?\\n4.\\tWrite a Python Program to calculate the natural logarithm of any number?\\n5.\\tWrite a Python Program for cube sum of first n natural numbers?\\n'"
      ]
     },
     "execution_count": 1,
     "metadata": {},
     "output_type": "execute_result"
    }
   ],
   "source": [
    "'''1.\tWrite a Python Program to Display Fibonacci Sequence Using Recursion?\n",
    "2.\tWrite a Python Program to Find Factorial of Number Using Recursion?\n",
    "3.\tWrite a Python Program to calculate your Body Mass Index?\n",
    "4.\tWrite a Python Program to calculate the natural logarithm of any number?\n",
    "5.\tWrite a Python Program for cube sum of first n natural numbers?\n",
    "'''"
   ]
  },
  {
   "cell_type": "markdown",
   "id": "ff6ae8ae",
   "metadata": {},
   "source": [
    "# Que 5 Write a Python Program for cube sum of first n natural numbers"
   ]
  },
  {
   "cell_type": "code",
   "execution_count": 3,
   "id": "26e64226",
   "metadata": {},
   "outputs": [
    {
     "name": "stdout",
     "output_type": "stream",
     "text": [
      "Enter the number till you want sum of cube of numbers8\n",
      "Cube of summation of first n natural numbers is: 46656\n",
      "Summation of cube of first n natural numbers is: 1296\n"
     ]
    }
   ],
   "source": [
    "n= int(input(\"Enter the number till you want sum of cube of numbers\"))\n",
    "x=0\n",
    "y=0\n",
    "for i in range(1,n+1):\n",
    "    x = x+i**3\n",
    "for j in range(1,n+1):\n",
    "    y=y+j\n",
    "print(\"Cube of summation of first n natural numbers is:\",(y**3))    \n",
    "print(\"Summation of cube of first n natural numbers is:\",x)    "
   ]
  },
  {
   "cell_type": "markdown",
   "id": "6d766ef2",
   "metadata": {},
   "source": [
    "# que 4 Write a Python Program to calculate the natural logarithm of any number"
   ]
  },
  {
   "cell_type": "code",
   "execution_count": 1,
   "id": "633db21e",
   "metadata": {},
   "outputs": [
    {
     "name": "stdout",
     "output_type": "stream",
     "text": [
      "Enter a number:-2\n",
      "Enter positive number\n",
      "Enter a number:-6\n",
      "Enter positive number\n",
      "Enter a number:-8\n",
      "Enter positive number\n",
      "Enter a number:2\n",
      "Natural logarithm of the number is: 0.6931471805599453\n"
     ]
    }
   ],
   "source": [
    "import math\n",
    "\n",
    "while(True):\n",
    "    n=int(input(\"Enter a number:\"))\n",
    "    try :\n",
    "        print(\"Natural logarithm of the number is:\",math.log(n))\n",
    "        break\n",
    "    except:\n",
    "        print(\"Enter positive number\")\n",
    "    "
   ]
  },
  {
   "cell_type": "markdown",
   "id": "b4cc879d",
   "metadata": {},
   "source": [
    "# que 1 Fibonacci Sequence Using Recursion"
   ]
  },
  {
   "cell_type": "code",
   "execution_count": 2,
   "id": "a8c689dd",
   "metadata": {},
   "outputs": [
    {
     "name": "stdout",
     "output_type": "stream",
     "text": [
      "Enter the number of terms for fibonacci series:8\n",
      "Fibonacci series:\n",
      "1 1 2 3 5 8 13 21 "
     ]
    }
   ],
   "source": [
    "def recursion(n):\n",
    "    if n<=1:\n",
    "        return n\n",
    "    else: \n",
    "        return (recursion(n-1) + recursion(n-2))\n",
    "    \n",
    "no_of_terms = int(input(\"Enter the number of terms for fibonacci series:\"))\n",
    "\n",
    "if no_of_terms <= 0:\n",
    "    print(\"Invalid input ! Please input a positive value\")\n",
    "else:\n",
    "    print(\"Fibonacci series:\")\n",
    "\n",
    "for i in range(no_of_terms):\n",
    "    print(recursion(i),end=\" \")"
   ]
  },
  {
   "cell_type": "markdown",
   "id": "d727fa9d",
   "metadata": {},
   "source": [
    "# Que 2 Factorial of Number Using Recursion"
   ]
  },
  {
   "cell_type": "code",
   "execution_count": 2,
   "id": "336f92d6",
   "metadata": {},
   "outputs": [
    {
     "name": "stdout",
     "output_type": "stream",
     "text": [
      "Enter a number:-6\n",
      "Enter a positive number.\n",
      "Enter a number:5\n",
      "Factorial of  5 is: 120\n"
     ]
    }
   ],
   "source": [
    "def factorial(n):\n",
    "    if n==1:\n",
    "        return 1\n",
    "    else:\n",
    "        return (n*factorial(n-1)) \n",
    "\n",
    "while(True):\n",
    "    number = int(input(\"Enter a number:\"))\n",
    "    if number<0:\n",
    "        print(\"Enter a positive number.\")\n",
    "        continue\n",
    "    elif number==0:\n",
    "        print(\"Factorial of zero is 1\")\n",
    "        break\n",
    "    else:\n",
    "        print(\"Factorial of\",number,\"is:\",factorial(number))\n",
    "        break"
   ]
  },
  {
   "cell_type": "markdown",
   "id": "17c3d31f",
   "metadata": {},
   "source": [
    "# Que 3 Calculate your Body Mass Index"
   ]
  },
  {
   "cell_type": "code",
   "execution_count": 5,
   "id": "e9dda09e",
   "metadata": {},
   "outputs": [
    {
     "name": "stdout",
     "output_type": "stream",
     "text": [
      "Enter weight in kg:58\n",
      "Enter height in meter:1.5748\n",
      "The BMI is 23.387143548480648 so Healthy\n"
     ]
    }
   ],
   "source": [
    "def BMI(weight,height):\n",
    "    bmi = weight/(height*height)\n",
    "    return bmi\n",
    "\n",
    "weight = float(input(\"Enter weight in kg:\"))\n",
    "height = float(input(\"Enter height in meter:\"))\n",
    "\n",
    "bmi = BMI(weight,height)\n",
    "\n",
    "print(\"The BMI is\", format(bmi), \"so \", end='')\n",
    " \n",
    "if (bmi < 18.5):\n",
    "    print(\"underweight\")\n",
    "elif ( bmi >= 18.5 and bmi < 24.9):\n",
    "    print(\"Healthy\")\n",
    "elif ( bmi >= 24.9 and bmi < 30):\n",
    "    print(\"overweight\")\n",
    "elif ( bmi >=30):\n",
    "    print(\"Suffering from Obesity\")\n"
   ]
  },
  {
   "cell_type": "code",
   "execution_count": null,
   "id": "5f52e6e7",
   "metadata": {},
   "outputs": [],
   "source": []
  }
 ],
 "metadata": {
  "kernelspec": {
   "display_name": "Python 3 (ipykernel)",
   "language": "python",
   "name": "python3"
  },
  "language_info": {
   "codemirror_mode": {
    "name": "ipython",
    "version": 3
   },
   "file_extension": ".py",
   "mimetype": "text/x-python",
   "name": "python",
   "nbconvert_exporter": "python",
   "pygments_lexer": "ipython3",
   "version": "3.9.12"
  }
 },
 "nbformat": 4,
 "nbformat_minor": 5
}
