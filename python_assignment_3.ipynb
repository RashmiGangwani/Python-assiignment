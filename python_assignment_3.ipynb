{
 "cells": [
  {
   "cell_type": "markdown",
   "id": "09c1045d",
   "metadata": {},
   "source": [
    "1. Why are functions advantageous to have in your programs?\n",
    "•\tReducing duplication of code\n",
    "•\tDecomposing complex problems into simpler pieces\n",
    "•\tImproving clarity of the code\n",
    "•\tReuse of code\n",
    "•\tInformation hiding\n",
    "\n",
    "2. When does the code in a function run: when it's specified or when it's called?\n",
    "•\tWhen it is called\n",
    "\n",
    "3. What statement creates a function?\n",
    "•\tdef function_name():\n",
    "\n",
    "4. What is the difference between a function and a function call?\n",
    "•\tIn Function, block of code is written which is to be executed and this code can be reused.\n",
    "•\tIn function call, above mentioned function is called and executed and get the result of written code in function.    \n",
    "\n",
    "5. How many global scopes are there in a Python program? How many local scopes?\n",
    "•\tThere is only one global scope in python program.\n",
    "•\tLocal scope depends upon the number of functions.\n",
    "\n",
    "6. What happens to variables in a local scope when the function call returns?\n",
    "•\tWhen the function call returns, the local variables are destroyed.\n",
    "\n",
    "7. What is the concept of a return value? Is it possible to have a return value in an expression?\n",
    "•\tIt is a value that a function returns to the caller when function completes its task.\n",
    "•\tIn an expression when one needs to use the return value of a function, one can call that function in that expression and use the return value in the expression.\n",
    "\n",
    "8. If a function does not have a return statement, what is the return value of a call to that function?\n",
    "•\tPython will implicitly return a default value . That default return value will always be None .\n",
    "9. How do you make a function variable refer to the global variable?\n",
    "•\tBy using a “global” keyword before that variable. \n",
    "10. What is the data type of None?\n",
    "•\tIt is a data type of the class NoneType \n",
    "11. What does the sentence import areallyourpetsnamederic do?\n",
    "•\tThat import statement imports a module named areallyourpetsnamederic\n",
    "12. If you had a bacon() feature in a spam module, what would you call it after importing spam?\n",
    "•\tSpam.bcon()\n",
    "13. What can you do to save a programme from crashing if it encounters an error?\n",
    "•\tWriting part of the program that may cause error in try block.\n",
    "14. What is the purpose of the try clause? What is the purpose of the except clause?\n",
    "•\tThe try block lets you test a block of code for errors. The except block lets you handle the error.\n",
    "\n"
   ]
  }
 ],
 "metadata": {
  "kernelspec": {
   "display_name": "Python 3 (ipykernel)",
   "language": "python",
   "name": "python3"
  },
  "language_info": {
   "codemirror_mode": {
    "name": "ipython",
    "version": 3
   },
   "file_extension": ".py",
   "mimetype": "text/x-python",
   "name": "python",
   "nbconvert_exporter": "python",
   "pygments_lexer": "ipython3",
   "version": "3.9.12"
  }
 },
 "nbformat": 4,
 "nbformat_minor": 5
}
