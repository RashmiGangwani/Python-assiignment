{
 "cells": [
  {
   "cell_type": "markdown",
   "id": "ff2a9d3e",
   "metadata": {},
   "source": [
    "# Assignment 1\n"
   ]
  },
  {
   "cell_type": "code",
   "execution_count": null,
   "id": "b6283b3b",
   "metadata": {},
   "outputs": [],
   "source": [
    "1.values= 'hello',-87.8,6\n",
    "  expression=*,-,/,+"
   ]
  },
  {
   "cell_type": "code",
   "execution_count": null,
   "id": "dd45d32c",
   "metadata": {},
   "outputs": [],
   "source": [
    "2.String is a single or no. of characters inside a single or double quotes. For ex: 'assignment','123'\n",
    "  variable is something where we store values. for ex: a=56"
   ]
  },
  {
   "cell_type": "code",
   "execution_count": null,
   "id": "839c2e8c",
   "metadata": {},
   "outputs": [],
   "source": [
    "3.int = It includes integer values from -infinity to +infinity but does not includes decimals values.\n",
    "  str = It includes any character i.e. alphanumeric,symbols inside single or double inverted commas.\n",
    "  float = It includes decimal no."
   ]
  },
  {
   "cell_type": "code",
   "execution_count": null,
   "id": "7c90cfa3",
   "metadata": {},
   "outputs": [],
   "source": [
    "4.Expression is made of values, functions that evaluates them and returns a value\n",
    "  for ex: 2*3"
   ]
  },
  {
   "cell_type": "code",
   "execution_count": null,
   "id": "c05c61ef",
   "metadata": {},
   "outputs": [],
   "source": [
    "5.Expression evaluates the values and functions and provides a final value\n",
    " while statement is something which is used to assign value like spam =10, conditional statement like if,else,for etc.\n",
    " statement doen not return anything.   "
   ]
  },
  {
   "cell_type": "code",
   "execution_count": 3,
   "id": "525e063a",
   "metadata": {},
   "outputs": [
    {
     "data": {
      "text/plain": [
       "23"
      ]
     },
     "execution_count": 3,
     "metadata": {},
     "output_type": "execute_result"
    }
   ],
   "source": [
    "bacon=22\n",
    "bacon+1"
   ]
  },
  {
   "cell_type": "code",
   "execution_count": 5,
   "id": "a7adb6e8",
   "metadata": {},
   "outputs": [
    {
     "data": {
      "text/plain": [
       "'spamspampam'"
      ]
     },
     "execution_count": 5,
     "metadata": {},
     "output_type": "execute_result"
    }
   ],
   "source": [
    "'spam'+'spampam' # it concats the string"
   ]
  },
  {
   "cell_type": "code",
   "execution_count": 6,
   "id": "53df7794",
   "metadata": {},
   "outputs": [
    {
     "data": {
      "text/plain": [
       "'spamspamspam'"
      ]
     },
     "execution_count": 6,
     "metadata": {},
     "output_type": "execute_result"
    }
   ],
   "source": [
    "'spam'*3 #It writes the string thrice"
   ]
  },
  {
   "cell_type": "code",
   "execution_count": null,
   "id": "4a45dbc1",
   "metadata": {},
   "outputs": [],
   "source": [
    "eggs is valid variable because it is not reserved keyword of python\n",
    "while 100 is an integer value and it hs meaning in python language so it an invalid variable."
   ]
  },
  {
   "cell_type": "code",
   "execution_count": null,
   "id": "ff9819f1",
   "metadata": {},
   "outputs": [],
   "source": [
    "int()\n",
    "float()\n",
    "str()"
   ]
  },
  {
   "cell_type": "code",
   "execution_count": null,
   "id": "42c41a68",
   "metadata": {},
   "outputs": [],
   "source": [
    "different data types is there so not able to concat i.e. 99 is int type rest two are strings.\n",
    "'I have eaten'+'99'+'burritos'\n",
    "or\n",
    "'I have eaten'+str(99)+'burritos'"
   ]
  },
  {
   "cell_type": "code",
   "execution_count": null,
   "id": "b0b6d817",
   "metadata": {},
   "outputs": [],
   "source": []
  },
  {
   "cell_type": "code",
   "execution_count": null,
   "id": "8ffec52e",
   "metadata": {},
   "outputs": [],
   "source": []
  }
 ],
 "metadata": {
  "kernelspec": {
   "display_name": "Python 3 (ipykernel)",
   "language": "python",
   "name": "python3"
  },
  "language_info": {
   "codemirror_mode": {
    "name": "ipython",
    "version": 3
   },
   "file_extension": ".py",
   "mimetype": "text/x-python",
   "name": "python",
   "nbconvert_exporter": "python",
   "pygments_lexer": "ipython3",
   "version": "3.9.12"
  }
 },
 "nbformat": 4,
 "nbformat_minor": 5
}
