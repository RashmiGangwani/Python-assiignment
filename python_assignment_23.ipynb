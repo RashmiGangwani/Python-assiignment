{
 "cells": [
  {
   "cell_type": "code",
   "execution_count": 3,
   "id": "64acf393",
   "metadata": {},
   "outputs": [
    {
     "name": "stdout",
     "output_type": "stream",
     "text": [
      "1 2 8\n"
     ]
    }
   ],
   "source": [
    "#1. What is the result of the code, and why?\n",
    "def func(a, b=6, c=8):\n",
    "    print(a, b, c) \n",
    "func(1, 2) \n",
    "#It assigns 1 to a and 2 to b and took c==8 bydefault"
   ]
  },
  {
   "cell_type": "code",
   "execution_count": 4,
   "id": "08da8b33",
   "metadata": {},
   "outputs": [
    {
     "name": "stdout",
     "output_type": "stream",
     "text": [
      "1 2 3\n"
     ]
    }
   ],
   "source": [
    "#2. What is the result of this code, and why?\n",
    "def func(a, b, c=5):\n",
    "    print(a, b, c)\n",
    "func(1, c=3, b=2) \n",
    "#Explicitly value given to b=2 and c=3 and rest value assigned to a"
   ]
  },
  {
   "cell_type": "code",
   "execution_count": 6,
   "id": "afffd3e7",
   "metadata": {},
   "outputs": [
    {
     "name": "stdout",
     "output_type": "stream",
     "text": [
      "1 (2, 3)\n"
     ]
    }
   ],
   "source": [
    "#3. How about this code: what is its result, and why?\n",
    "def func(a, *pargs):\n",
    "    print(a, pargs)\n",
    "func(1, 2, 3) \n",
    "#1 is assigned to a and rest value passed to pargs as it can store multiple values."
   ]
  },
  {
   "cell_type": "code",
   "execution_count": 7,
   "id": "68d2c313",
   "metadata": {},
   "outputs": [
    {
     "name": "stdout",
     "output_type": "stream",
     "text": [
      "1 {'c': 3, 'b': 2}\n"
     ]
    }
   ],
   "source": [
    "#4. What does this code print, and why?\n",
    "def func(a, **kargs):\n",
    "    print(a, kargs)\n",
    "func(a=1, c=3, b=2)\n",
    "#**kargs can store multiple key value pair so b and c passed to kargs."
   ]
  },
  {
   "cell_type": "code",
   "execution_count": 8,
   "id": "c0d5d299",
   "metadata": {},
   "outputs": [
    {
     "name": "stdout",
     "output_type": "stream",
     "text": [
      "1 5 6 5\n"
     ]
    }
   ],
   "source": [
    "#5. What gets printed by this, and explain?\n",
    "def func(a, b, c=8, d=5):\n",
    "    print(a, b, c, d)\n",
    "func(1, *(5, 6))\n",
    "# 1 passed to a and 5,6 to next two parameters as third value was not there inside the paranthesis so default value of d i.e. 5 is printed."
   ]
  },
  {
   "cell_type": "code",
   "execution_count": 11,
   "id": "4804c577",
   "metadata": {},
   "outputs": [
    {
     "data": {
      "text/plain": [
       "(1, ['x'], {'a': 'y'})"
      ]
     },
     "execution_count": 11,
     "metadata": {},
     "output_type": "execute_result"
    }
   ],
   "source": [
    "#6. what is the result of this, and explain?\n",
    "def func(a, b, c): \n",
    "    a = 2; b[0] = 'x'; c['a'] = 'y'\n",
    "l=1; m=[1]; n={'a':0}\n",
    "func(l, m, n)\n",
    "l, m, n\n",
    "#int is immutable so value of l remains same i.e. 1 while list and dictionary are immutable so values assigned inside function comes out as ouput."
   ]
  },
  {
   "cell_type": "code",
   "execution_count": null,
   "id": "8a504801",
   "metadata": {},
   "outputs": [],
   "source": []
  }
 ],
 "metadata": {
  "kernelspec": {
   "display_name": "Python 3 (ipykernel)",
   "language": "python",
   "name": "python3"
  },
  "language_info": {
   "codemirror_mode": {
    "name": "ipython",
    "version": 3
   },
   "file_extension": ".py",
   "mimetype": "text/x-python",
   "name": "python",
   "nbconvert_exporter": "python",
   "pygments_lexer": "ipython3",
   "version": "3.9.12"
  }
 },
 "nbformat": 4,
 "nbformat_minor": 5
}
