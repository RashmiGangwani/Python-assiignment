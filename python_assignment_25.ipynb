{
 "cells": [
  {
   "cell_type": "code",
   "execution_count": null,
   "id": "b923d3fb",
   "metadata": {},
   "outputs": [],
   "source": [
    "'''1) . What is the difference between enclosing a list comprehension in square brackets and parentheses?'''\n",
    "list comprehension enclosing in square brackets results a \"list\" containing collection of values\n",
    "while list comprehension enclosing in paranthesis results a \"generator\" object which has to be iterate to generate value."
   ]
  },
  {
   "cell_type": "code",
   "execution_count": 14,
   "id": "b1114f7a",
   "metadata": {},
   "outputs": [
    {
     "data": {
      "text/plain": [
       "[1, 4, 9, 16, 25, 36, 49, 64, 81, 100]"
      ]
     },
     "execution_count": 14,
     "metadata": {},
     "output_type": "execute_result"
    }
   ],
   "source": [
    "l=[x*x for x in range(1,11)]\n",
    "l"
   ]
  },
  {
   "cell_type": "code",
   "execution_count": 15,
   "id": "d75c27c3",
   "metadata": {},
   "outputs": [
    {
     "data": {
      "text/plain": [
       "1"
      ]
     },
     "execution_count": 15,
     "metadata": {},
     "output_type": "execute_result"
    }
   ],
   "source": [
    "l=(x*x for x in range(1,11))\n",
    "next(l)"
   ]
  },
  {
   "cell_type": "code",
   "execution_count": 16,
   "id": "43e49b5f",
   "metadata": {},
   "outputs": [
    {
     "data": {
      "text/plain": [
       "4"
      ]
     },
     "execution_count": 16,
     "metadata": {},
     "output_type": "execute_result"
    }
   ],
   "source": [
    "next(l)"
   ]
  },
  {
   "cell_type": "code",
   "execution_count": null,
   "id": "d8fae4b2",
   "metadata": {},
   "outputs": [],
   "source": [
    "'''2) What is the relationship between generators and iterators?'''\n",
    "Every iterator is not a generator while Every generator is an iterator.\n",
    "Generator produces a iterator which is iterated to get the values."
   ]
  },
  {
   "cell_type": "code",
   "execution_count": null,
   "id": "ee25bc0d",
   "metadata": {},
   "outputs": [],
   "source": [
    "'''3) What are the signs that a function is a generator function?'''\n",
    "In place of return keyword inside a function if yield keyword is used then the function is a generator."
   ]
  },
  {
   "cell_type": "code",
   "execution_count": null,
   "id": "57ba9d8c",
   "metadata": {},
   "outputs": [],
   "source": [
    "'''4) What is the purpose of a yield statement?'''\n",
    "yield keyword is used to create a generator function. A type of function that is memory efficient and can be used like an iterator object."
   ]
  },
  {
   "cell_type": "code",
   "execution_count": null,
   "id": "110fadeb",
   "metadata": {},
   "outputs": [],
   "source": [
    "'''5) What is the relationship between map calls and list comprehensions? Make a comparison and contrast between the two.'''\n",
    "List comprehension follows the form of the mathematical set-builder notation. It provide a concise way to create lists.\n",
    "                 [ expression for item in list if conditional ]\n",
    "    \n",
    "map() function returns a map object(which is an iterator) of the results after applying the given function to each item of a given iterable (list, tuple etc.)\n",
    "\n",
    "Map VS List Comprehension\n",
    "List comprehension is more concise and easier to read as compared to map.\n",
    "List comprehension allows filtering. In map, we have no such facility. For example, to print all even numbers in range of 100, we can write [n for n in range(100) if n%2 == 0]. There is no alternate for it in map\n",
    "List comprehension are used when a list of results is required as map only returns a map object and does not return any list.\n",
    "List comprehension is faster than map when we need to evaluate expressions that are too long or complicated to express\n",
    "Map is faster in case of calling an already defined function (as no lambda is required).\n"
   ]
  },
  {
   "cell_type": "code",
   "execution_count": null,
   "id": "9ca84b31",
   "metadata": {},
   "outputs": [],
   "source": []
  }
 ],
 "metadata": {
  "kernelspec": {
   "display_name": "Python 3 (ipykernel)",
   "language": "python",
   "name": "python3"
  },
  "language_info": {
   "codemirror_mode": {
    "name": "ipython",
    "version": 3
   },
   "file_extension": ".py",
   "mimetype": "text/x-python",
   "name": "python",
   "nbconvert_exporter": "python",
   "pygments_lexer": "ipython3",
   "version": "3.9.12"
  }
 },
 "nbformat": 4,
 "nbformat_minor": 5
}
