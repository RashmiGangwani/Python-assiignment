{
 "cells": [
  {
   "cell_type": "markdown",
   "id": "dfc8a6b5",
   "metadata": {},
   "source": [
    "Two boolean data types are True, False"
   ]
  },
  {
   "cell_type": "code",
   "execution_count": null,
   "id": "8247e58b",
   "metadata": {},
   "outputs": [],
   "source": [
    "Three boolean operators are and,or,not"
   ]
  },
  {
   "cell_type": "code",
   "execution_count": null,
   "id": "78fb18a6",
   "metadata": {},
   "outputs": [],
   "source": [
    "A    B   AND    OR    \n",
    "1    1    1     1\n",
    "0    1    0     1\n",
    "1    0    0     1\n",
    "0    0    0     0\n",
    "\n",
    "A   NOT\n",
    "1    0\n",
    "0    1\n",
    "[1=TRUE\n",
    " 0=FALSE]"
   ]
  },
  {
   "cell_type": "code",
   "execution_count": 5,
   "id": "63b2c8cd",
   "metadata": {},
   "outputs": [
    {
     "data": {
      "text/plain": [
       "False"
      ]
     },
     "execution_count": 5,
     "metadata": {},
     "output_type": "execute_result"
    }
   ],
   "source": [
    "(5>4) and (3==5)"
   ]
  },
  {
   "cell_type": "code",
   "execution_count": 6,
   "id": "6df27039",
   "metadata": {},
   "outputs": [
    {
     "data": {
      "text/plain": [
       "False"
      ]
     },
     "execution_count": 6,
     "metadata": {},
     "output_type": "execute_result"
    }
   ],
   "source": [
    "not(5>4)"
   ]
  },
  {
   "cell_type": "code",
   "execution_count": 7,
   "id": "d991d0b5",
   "metadata": {},
   "outputs": [
    {
     "data": {
      "text/plain": [
       "True"
      ]
     },
     "execution_count": 7,
     "metadata": {},
     "output_type": "execute_result"
    }
   ],
   "source": [
    "(5>4)or(3==5)"
   ]
  },
  {
   "cell_type": "code",
   "execution_count": 8,
   "id": "54b15000",
   "metadata": {},
   "outputs": [
    {
     "data": {
      "text/plain": [
       "False"
      ]
     },
     "execution_count": 8,
     "metadata": {},
     "output_type": "execute_result"
    }
   ],
   "source": [
    "not((5>4)or(3==5))"
   ]
  },
  {
   "cell_type": "code",
   "execution_count": 9,
   "id": "291d229b",
   "metadata": {},
   "outputs": [
    {
     "data": {
      "text/plain": [
       "False"
      ]
     },
     "execution_count": 9,
     "metadata": {},
     "output_type": "execute_result"
    }
   ],
   "source": [
    "(True and True)and(True==False)"
   ]
  },
  {
   "cell_type": "code",
   "execution_count": 10,
   "id": "dab7972c",
   "metadata": {},
   "outputs": [
    {
     "data": {
      "text/plain": [
       "True"
      ]
     },
     "execution_count": 10,
     "metadata": {},
     "output_type": "execute_result"
    }
   ],
   "source": [
    "(not False)or(not True)"
   ]
  },
  {
   "cell_type": "code",
   "execution_count": null,
   "id": "be7ad8cc",
   "metadata": {},
   "outputs": [],
   "source": [
    "==\n",
    ">\n",
    "<\n",
    ">=\n",
    "<=\n",
    "!="
   ]
  },
  {
   "cell_type": "code",
   "execution_count": null,
   "id": "2f9d10ff",
   "metadata": {},
   "outputs": [],
   "source": [
    "Equal operator is ==\n",
    "assignment operator is =\n",
    "When we have to assign or store a value to a variable i.e. a=5 we use assignment operator\n",
    "While in case of comparison between equal values we use =="
   ]
  },
  {
   "cell_type": "code",
   "execution_count": null,
   "id": "b986226a",
   "metadata": {},
   "outputs": [],
   "source": [
    "spam = 0\n",
    "\n",
    "    First block\n",
    "    \n",
    "if spam == 10:\n",
    "    print('eggs')\n",
    "    \n",
    "    Second block\n",
    "    \n",
    "if spam > 5:\n",
    "    print('bacon')\n",
    "else:\n",
    "    print('ham')\n",
    "    \n",
    "    Third block\n",
    "    \n",
    "print('spam')\n",
    "print('spam')\n"
   ]
  },
  {
   "cell_type": "code",
   "execution_count": null,
   "id": "836b2e64",
   "metadata": {},
   "outputs": [],
   "source": [
    "spam=int(input())\n",
    "if spam==1:\n",
    "    print(\"Hello\")\n",
    "elif spam == 2:\n",
    "    print(\"Howdy\")\n",
    "    \n",
    "else:\n",
    "    print(\"Greetings!\")"
   ]
  },
  {
   "cell_type": "code",
   "execution_count": null,
   "id": "70b5f0d0",
   "metadata": {},
   "outputs": [],
   "source": [
    "9. Press Ctrl+C"
   ]
  },
  {
   "cell_type": "markdown",
   "id": "96d20353",
   "metadata": {},
   "source": [
    "break: it will come out of the loop or end the loop\n",
    "continue: it will left the execution of statements inside the loop  and comes at loop for next iteration"
   ]
  },
  {
   "cell_type": "markdown",
   "id": "a2686c6d",
   "metadata": {},
   "source": [
    "range(10): start value is by default 0, end value is 10(10 not included),step size is 1(default)\n",
    "range(0,10): same as above\n",
    "range(0,10,1): same as above \n",
    "all performs the same function\n"
   ]
  },
  {
   "cell_type": "code",
   "execution_count": 3,
   "id": "7734619e",
   "metadata": {},
   "outputs": [
    {
     "name": "stdout",
     "output_type": "stream",
     "text": [
      "1\n",
      "2\n",
      "3\n",
      "4\n",
      "5\n",
      "6\n",
      "7\n",
      "8\n",
      "9\n",
      "10\n"
     ]
    }
   ],
   "source": [
    "for i in range(10):\n",
    "    print(i+1)"
   ]
  },
  {
   "cell_type": "code",
   "execution_count": 4,
   "id": "8281ac13",
   "metadata": {},
   "outputs": [
    {
     "name": "stdout",
     "output_type": "stream",
     "text": [
      "1\n",
      "2\n",
      "3\n",
      "4\n",
      "5\n",
      "6\n",
      "7\n",
      "8\n",
      "9\n",
      "10\n"
     ]
    }
   ],
   "source": [
    "i=1\n",
    "while(i<11):\n",
    "    print(i)\n",
    "    i=i+1"
   ]
  },
  {
   "cell_type": "code",
   "execution_count": null,
   "id": "7e4329e6",
   "metadata": {},
   "outputs": [],
   "source": [
    "import spam\n",
    "spam.bacon()"
   ]
  },
  {
   "cell_type": "code",
   "execution_count": null,
   "id": "c0204635",
   "metadata": {},
   "outputs": [],
   "source": []
  }
 ],
 "metadata": {
  "kernelspec": {
   "display_name": "Python 3 (ipykernel)",
   "language": "python",
   "name": "python3"
  },
  "language_info": {
   "codemirror_mode": {
    "name": "ipython",
    "version": 3
   },
   "file_extension": ".py",
   "mimetype": "text/x-python",
   "name": "python",
   "nbconvert_exporter": "python",
   "pygments_lexer": "ipython3",
   "version": "3.9.12"
  }
 },
 "nbformat": 4,
 "nbformat_minor": 5
}
