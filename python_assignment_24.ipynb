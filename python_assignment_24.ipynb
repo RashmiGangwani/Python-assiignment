{
 "cells": [
  {
   "cell_type": "code",
   "execution_count": null,
   "id": "d869c8dc",
   "metadata": {},
   "outputs": [],
   "source": [
    "'''1. What is the relationship between def statements and lambda expressions ?'''\n",
    "Both are used to define function the difference is that in lambda expression function name is not write and it is one line function.\n",
    "\n",
    "\n",
    "\n",
    "\n",
    "\n",
    "\n",
    "\n"
   ]
  },
  {
   "cell_type": "code",
   "execution_count": null,
   "id": "9cc6097c",
   "metadata": {},
   "outputs": [],
   "source": [
    "'''2. What is the benefit of lambda?'''\n",
    "The lambda functions can be used without any declaration in the namespace.\n",
    "There is no return keyword defined explicitly because the lambda function does return an object by default.\n",
    "The lambda functions defined like single-line functions."
   ]
  },
  {
   "cell_type": "code",
   "execution_count": null,
   "id": "8fca2842",
   "metadata": {},
   "outputs": [],
   "source": [
    "'''3. Compare and contrast map, filter, and reduce.'''\n",
    "The functions map(), filter(), and reduce() all do the same thing: They each take a function and a list of elements, and then return the result of applying the function to each element in the list.\n",
    "\n",
    "map() : this function accepts another function and a sequence of ‘iterables’ as parameters and provides output after applying the function to each iterable in the sequence.\n",
    "filter() : The filter() function is used to generate an output list of values that return true when the function is called.\n",
    "reduce() : The reduce() function applies a provided function to ‘iterables’ and returns a single value, as the name implies."
   ]
  },
  {
   "cell_type": "code",
   "execution_count": null,
   "id": "6d2a6c37",
   "metadata": {},
   "outputs": [],
   "source": [
    "'''4. What are function annotations, and how are they used?'''\n",
    "Function annotations are arbitrary python expressions that are associated with various part of functions. These expressions are evaluated at compile time and have no life in python’s runtime environment. Python does not attach any meaning to these annotations. They take life when interpreted by third party libraries, for example, mypy."
   ]
  },
  {
   "cell_type": "code",
   "execution_count": null,
   "id": "9234d3d3",
   "metadata": {},
   "outputs": [],
   "source": [
    "'''5. What are recursive functions, and how are they used?'''\n",
    "A recursive function is a function that calls itself during its execution. \n",
    "def recursion(n):\n",
    "    if n<=1:\n",
    "        return n\n",
    "    else: \n",
    "        return (recursion(n-1) + recursion(n-2))\n",
    "    \n",
    "no_of_terms = int(input(\"Enter the number of terms for fibonacci series:\"))\n",
    "\n",
    "if no_of_terms <= 0:\n",
    "    print(\"Invalid input ! Please input a positive value\")\n",
    "else:\n",
    "    print(\"Fibonacci series:\")\n",
    "\n",
    "for i in range(no_of_terms):\n",
    "    print(recursion(i),end=\" \")"
   ]
  },
  {
   "cell_type": "code",
   "execution_count": null,
   "id": "76730300",
   "metadata": {},
   "outputs": [],
   "source": [
    "'''6. What are some general design guidelines for coding functions?'''\n",
    "1. Define function writing def keyword following function_name nd paranthesis():\n",
    "2. Give proper indentation while writing body of function\n",
    "3. Use return keyword to get the output of function.\n",
    "4. Call the function writing function_name and paranthesis."
   ]
  },
  {
   "cell_type": "code",
   "execution_count": null,
   "id": "ab19964e",
   "metadata": {},
   "outputs": [],
   "source": [
    "'''7. Name three or more ways that functions can communicate results to a caller.'''\n",
    "1. function_name()\n",
    "2. pssing function in another function"
   ]
  },
  {
   "cell_type": "code",
   "execution_count": null,
   "id": "d876643d",
   "metadata": {},
   "outputs": [],
   "source": []
  }
 ],
 "metadata": {
  "kernelspec": {
   "display_name": "Python 3 (ipykernel)",
   "language": "python",
   "name": "python3"
  },
  "language_info": {
   "codemirror_mode": {
    "name": "ipython",
    "version": 3
   },
   "file_extension": ".py",
   "mimetype": "text/x-python",
   "name": "python",
   "nbconvert_exporter": "python",
   "pygments_lexer": "ipython3",
   "version": "3.9.12"
  }
 },
 "nbformat": 4,
 "nbformat_minor": 5
}
