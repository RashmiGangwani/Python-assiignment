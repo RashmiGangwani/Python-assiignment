{
 "cells": [
  {
   "cell_type": "code",
   "execution_count": null,
   "id": "d67bc3f7",
   "metadata": {},
   "outputs": [],
   "source": [
    "'''1.\tWrite a Python Program to Find LCM?\n",
    "2.\tWrite a Python Program to Find HCF?\n",
    "3.\tWrite a Python Program to Convert Decimal to Binary, Octal and Hexadecimal?\n",
    "4.\tWrite a Python Program To Find ASCII value of a character?\n",
    "5.\tWrite a Python Program to Make a Simple Calculator with 4 basic mathematical operations?'''\n"
   ]
  },
  {
   "cell_type": "markdown",
   "id": "7487b0ec",
   "metadata": {},
   "source": [
    "# Que 1 LCM of numbers"
   ]
  },
  {
   "cell_type": "code",
   "execution_count": 20,
   "id": "b645c991",
   "metadata": {},
   "outputs": [
    {
     "name": "stdout",
     "output_type": "stream",
     "text": [
      "Enter the first number:6\n",
      "Enter the second number:4\n",
      "LCM of 2 numbers is: 12\n"
     ]
    }
   ],
   "source": [
    "n1= int(input(\"Enter the first number:\"))\n",
    "n2= int(input(\"Enter the second number:\"))\n",
    "if n1>n2:\n",
    "    greater_number = n1\n",
    "else:\n",
    "    greater_number = n2\n",
    "    \n",
    "while(True):\n",
    "    if((greater_number%n1==0) and (greater_number%n2==0)):\n",
    "        lcm = greater_number\n",
    "        break\n",
    "    greater_number=greater_number+1\n",
    "    \n",
    "    \n",
    "print(\"LCM of 2 numbers is:\",lcm)        "
   ]
  },
  {
   "cell_type": "markdown",
   "id": "5e5a0401",
   "metadata": {},
   "source": [
    "# Que 2 HCF of numbers"
   ]
  },
  {
   "cell_type": "code",
   "execution_count": 23,
   "id": "155b6e5c",
   "metadata": {},
   "outputs": [
    {
     "name": "stdout",
     "output_type": "stream",
     "text": [
      "Enter the first number:6\n",
      "Enter the second number:4\n",
      "HCF of 2 numbers is: 2\n"
     ]
    }
   ],
   "source": [
    "n1= int(input(\"Enter the first number:\"))\n",
    "n2= int(input(\"Enter the second number:\"))\n",
    "if n1<n2:\n",
    "    smaller_number = n1\n",
    "else:\n",
    "    smaller_number = n2\n",
    "    \n",
    "for i in range(1,smaller_number+1):\n",
    "    if ((n1%i==0) and (n2%i==0)):\n",
    "        hcf =i\n",
    "        \n",
    "print(\"HCF of 2 numbers is:\",hcf)"
   ]
  },
  {
   "cell_type": "markdown",
   "id": "8151690e",
   "metadata": {},
   "source": [
    "# Que 3 conversion "
   ]
  },
  {
   "cell_type": "code",
   "execution_count": 27,
   "id": "e2dc873a",
   "metadata": {},
   "outputs": [
    {
     "name": "stdout",
     "output_type": "stream",
     "text": [
      "Enter a number:4\n",
      "Decimal to Binary : 0b100\n",
      "Decimal to Octal : 0o4\n",
      "Decimal to Hexadecimal : 0x4\n"
     ]
    }
   ],
   "source": [
    "x = int(input(\"Enter a number:\"))\n",
    "print(\"Decimal to Binary :\",bin(x))\n",
    "print(\"Decimal to Octal :\",oct(x))\n",
    "print(\"Decimal to Hexadecimal :\",hex(x))"
   ]
  },
  {
   "cell_type": "markdown",
   "id": "218a5d82",
   "metadata": {},
   "source": [
    "# Que 4 Write a Python Program To Find ASCII value of a character"
   ]
  },
  {
   "cell_type": "code",
   "execution_count": 29,
   "id": "9c953463",
   "metadata": {},
   "outputs": [
    {
     "name": "stdout",
     "output_type": "stream",
     "text": [
      "Write a character:A\n",
      "ASCII value of character is: 65\n"
     ]
    }
   ],
   "source": [
    "x= input(\"Write a character:\")\n",
    "print(\"ASCII value of character is:\",ord(x))"
   ]
  },
  {
   "cell_type": "markdown",
   "id": "9632f1d6",
   "metadata": {},
   "source": [
    "# Que5 Python Program to Make a Simple Calculator with 4 basic mathematical operations"
   ]
  },
  {
   "cell_type": "code",
   "execution_count": 48,
   "id": "b631e162",
   "metadata": {},
   "outputs": [
    {
     "name": "stdout",
     "output_type": "stream",
     "text": [
      "Enter first numbers:6\n",
      "Enter second numbers:3\n",
      "Addition 9,Substraction 3,Multiplication 18,Division 2.0\n"
     ]
    }
   ],
   "source": [
    "x = int(input(\"Enter first numbers:\"))\n",
    "y = int(input(\"Enter second numbers:\"))\n",
    "\n",
    "def Calculator(a,b):\n",
    "    add = a+b\n",
    "    sub = a-b\n",
    "    mul = a*b\n",
    "    div = a/b\n",
    "    return (\"Addition %s,Substraction %s,Multiplication %s,Division %s\"%(add,sub,mul,div))\n",
    "\n",
    "\n",
    "print(Calculator(x,y))"
   ]
  },
  {
   "cell_type": "code",
   "execution_count": null,
   "id": "e5c84d41",
   "metadata": {},
   "outputs": [],
   "source": [
    ",\"Substraction:\",sub,\"Multiplication:\",mul,\"Division:\",div\n"
   ]
  }
 ],
 "metadata": {
  "kernelspec": {
   "display_name": "Python 3 (ipykernel)",
   "language": "python",
   "name": "python3"
  },
  "language_info": {
   "codemirror_mode": {
    "name": "ipython",
    "version": 3
   },
   "file_extension": ".py",
   "mimetype": "text/x-python",
   "name": "python",
   "nbconvert_exporter": "python",
   "pygments_lexer": "ipython3",
   "version": "3.9.12"
  }
 },
 "nbformat": 4,
 "nbformat_minor": 5
}
